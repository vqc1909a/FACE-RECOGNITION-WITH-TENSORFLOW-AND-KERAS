{
 "cells": [
  {
   "cell_type": "code",
   "execution_count": 1,
   "source": [
    "import cv2\r\n",
    "import os\r\n",
    "import numpy as np\r\n",
    "import tensorflow as tf\r\n",
    "from tensorflow.keras.models import load_model\r\n",
    "import matplotlib.pyplot as plt\r\n",
    "from PIL import Image"
   ],
   "outputs": [],
   "metadata": {}
  },
  {
   "cell_type": "code",
   "execution_count": 2,
   "source": [
    "os.getcwd()"
   ],
   "outputs": [
    {
     "output_type": "execute_result",
     "data": {
      "text/plain": [
       "'c:\\\\Users\\\\LENOVO\\\\OneDrive\\\\Python\\\\Proyectos\\\\GitHub\\\\Face Recognition with Tensorflow and Keras'"
      ]
     },
     "metadata": {},
     "execution_count": 2
    }
   ],
   "metadata": {}
  },
  {
   "cell_type": "markdown",
   "source": [
    "### Cargar modelo VGG16"
   ],
   "metadata": {}
  },
  {
   "cell_type": "code",
   "execution_count": 10,
   "source": [
    "model_vgg16 = load_model('./Models/model_vgg16.h5')"
   ],
   "outputs": [],
   "metadata": {}
  },
  {
   "cell_type": "code",
   "execution_count": 11,
   "source": [
    "model_vgg16.summary()"
   ],
   "outputs": [
    {
     "output_type": "stream",
     "name": "stdout",
     "text": [
      "Model: \"sequential_1\"\n",
      "_________________________________________________________________\n",
      "Layer (type)                 Output Shape              Param #   \n",
      "=================================================================\n",
      "block1_conv1 (Conv2D)        (None, 224, 224, 64)      1792      \n",
      "_________________________________________________________________\n",
      "block1_conv2 (Conv2D)        (None, 224, 224, 64)      36928     \n",
      "_________________________________________________________________\n",
      "block1_pool (MaxPooling2D)   (None, 112, 112, 64)      0         \n",
      "_________________________________________________________________\n",
      "block2_conv1 (Conv2D)        (None, 112, 112, 128)     73856     \n",
      "_________________________________________________________________\n",
      "block2_conv2 (Conv2D)        (None, 112, 112, 128)     147584    \n",
      "_________________________________________________________________\n",
      "block2_pool (MaxPooling2D)   (None, 56, 56, 128)       0         \n",
      "_________________________________________________________________\n",
      "block3_conv1 (Conv2D)        (None, 56, 56, 256)       295168    \n",
      "_________________________________________________________________\n",
      "block3_conv2 (Conv2D)        (None, 56, 56, 256)       590080    \n",
      "_________________________________________________________________\n",
      "block3_conv3 (Conv2D)        (None, 56, 56, 256)       590080    \n",
      "_________________________________________________________________\n",
      "block3_pool (MaxPooling2D)   (None, 28, 28, 256)       0         \n",
      "_________________________________________________________________\n",
      "block4_conv1 (Conv2D)        (None, 28, 28, 512)       1180160   \n",
      "_________________________________________________________________\n",
      "block4_conv2 (Conv2D)        (None, 28, 28, 512)       2359808   \n",
      "_________________________________________________________________\n",
      "block4_conv3 (Conv2D)        (None, 28, 28, 512)       2359808   \n",
      "_________________________________________________________________\n",
      "block4_pool (MaxPooling2D)   (None, 14, 14, 512)       0         \n",
      "_________________________________________________________________\n",
      "block5_conv1 (Conv2D)        (None, 14, 14, 512)       2359808   \n",
      "_________________________________________________________________\n",
      "block5_conv2 (Conv2D)        (None, 14, 14, 512)       2359808   \n",
      "_________________________________________________________________\n",
      "block5_conv3 (Conv2D)        (None, 14, 14, 512)       2359808   \n",
      "_________________________________________________________________\n",
      "block5_pool (MaxPooling2D)   (None, 7, 7, 512)         0         \n",
      "_________________________________________________________________\n",
      "flatten (Flatten)            (None, 25088)             0         \n",
      "_________________________________________________________________\n",
      "fc1 (Dense)                  (None, 4096)              102764544 \n",
      "_________________________________________________________________\n",
      "fc2 (Dense)                  (None, 4096)              16781312  \n",
      "_________________________________________________________________\n",
      "dense_1 (Dense)              (None, 3)                 12291     \n",
      "=================================================================\n",
      "Total params: 134,272,835\n",
      "Trainable params: 12,291\n",
      "Non-trainable params: 134,260,544\n",
      "_________________________________________________________________\n"
     ]
    }
   ],
   "metadata": {}
  },
  {
   "cell_type": "markdown",
   "source": [
    "### Prueba vgg16"
   ],
   "metadata": {}
  },
  {
   "cell_type": "code",
   "execution_count": 12,
   "source": [
    "imagen_prueba = cv2.imread('brayan_prueba.jpg');\r\n",
    "imagen_prueba = tf.keras.applications.vgg16.preprocess_input(imagen_prueba)\r\n",
    "imagen_prueba = cv2.resize(imagen_prueba, (224, 224))\r\n",
    "\r\n",
    "plt.imshow(imagen_prueba)"
   ],
   "outputs": [
    {
     "output_type": "stream",
     "name": "stderr",
     "text": [
      "Clipping input data to the valid range for imshow with RGB data ([0..1] for floats or [0..255] for integers).\n"
     ]
    },
    {
     "output_type": "execute_result",
     "data": {
      "text/plain": [
       "<matplotlib.image.AxesImage at 0x2b3b2685160>"
      ]
     },
     "metadata": {},
     "execution_count": 12
    },
    {
     "output_type": "display_data",
     "data": {
      "text/plain": [
       "<Figure size 432x288 with 1 Axes>"
      ],
      "image/png": "[encoded data removed]"
     },
     "metadata": {
      "needs_background": "light"
     }
    }
   ],
   "metadata": {}
  },
  {
   "cell_type": "code",
   "execution_count": 13,
   "source": [
    "imagen_prediction = model_vgg16.predict(x=np.array([imagen_prueba]), verbose=0);\r\n",
    "imagen_prediction\r\n"
   ],
   "outputs": [
    {
     "output_type": "execute_result",
     "data": {
      "text/plain": [
       "array([[0.01162198, 0.97848755, 0.00989039]], dtype=float32)"
      ]
     },
     "metadata": {},
     "execution_count": 13
    }
   ],
   "metadata": {}
  },
  {
   "cell_type": "code",
   "execution_count": 15,
   "source": [
    "faceClassif = cv2.CascadeClassifier('haarcascade_frontalface_default.xml')\r\n",
    "cap = cv2.VideoCapture(\"./video_cesar.mp4\")\r\n",
    "\r\n",
    "contador = 0;\r\n",
    "result = ''\r\n",
    "while (cap.isOpened()):\r\n",
    "   ret, frame = cap.read()\r\n",
    "   frame = cv2.resize(frame, (1366, 768))    \r\n",
    "   \r\n",
    "   roi_frame = cv2.cvtColor(frame, cv2.COLOR_BGR2RGB)   \r\n",
    "   gray = cv2.cvtColor(frame, cv2.COLOR_BGR2GRAY)\r\n",
    "   scaleFactor = 1.25\r\n",
    "   minNeighbors = 5\r\n",
    "\r\n",
    "   faces = faceClassif.detectMultiScale(gray, scaleFactor, minNeighbors)\r\n",
    "   for (i, (x, y, w, h)) in enumerate(faces):    \r\n",
    "    \r\n",
    "       #Construir mi marco de interes\r\n",
    "       original = roi_frame[y:y+h,x:x+w]\r\n",
    "       roi =  roi_frame[y-140:y+h+70,x-70:x+w+70]\r\n",
    "         \r\n",
    "       try:\r\n",
    "           if w >= 224 and h >= 224:\r\n",
    "               #Contador de frames (solo funciona para una persona)\r\n",
    "               if contador % 40 == 0:\r\n",
    "                   imagen_roi = tf.keras.applications.vgg16.preprocess_input(roi)\r\n",
    "                   imagen_roi = cv2.resize(imagen_roi, (224, 224))\r\n",
    "                   imagen_predict = np.array([imagen_roi]);\r\n",
    "                   prediction = model_vgg16.predict(x=imagen_predict, verbose=0);\r\n",
    "                   print(prediction)\r\n",
    "                   persona = np.argmax(prediction, axis=-1)[0];    \r\n",
    "                   probabilidad_persona = prediction[0][persona];\r\n",
    "                   print(probabilidad_persona)\r\n",
    "                   if persona == 0 and probabilidad_persona >= 0.6:\r\n",
    "                     result = \"Cesar\"\r\n",
    "                   elif persona == 1 and probabilidad_persona >= 0.6:\r\n",
    "                     result = \"Brayan\" \r\n",
    "                   elif persona == 2 and probabilidad_persona >= 0.6:\r\n",
    "                     result = \"Ronald\" \r\n",
    "                   elif persona == 3 and probabilidad_persona >= 0.6:\r\n",
    "                     result = \"Eduardo\" \r\n",
    "                   else:\r\n",
    "                    result = \"Desconocido\"\r\n",
    "\r\n",
    "               #Impresion sin variables locals         \r\n",
    "               cv2.putText(frame, f'{result}', (x, y-50), cv2.FONT_HERSHEY_SIMPLEX, 1, (0, 255, 239), 5, cv2.FILLED)\r\n",
    "               cv2.putText(frame, f'{round(probabilidad_persona * 100, 2)}%', (x, y-10), cv2.FONT_HERSHEY_SIMPLEX, 1, (0, 255, 239), 5, cv2.FILLED)\r\n",
    "               cv2.rectangle(frame, (x, y), (x+w, y+h), (255, 255, 255), 2)\r\n",
    "       except Exception as e:\r\n",
    "           print('')     \r\n",
    "      \r\n",
    "            \r\n",
    "   \r\n",
    "   cv2.putText(frame, \"Salir de la aplicacion: Tecla s\", (825, 50), cv2.FONT_HERSHEY_SIMPLEX, 1, (0, 0, 255), 3, cv2.FILLED)\r\n",
    "   cv2.imshow('frame', frame)\r\n",
    "   \r\n",
    "   if cv2.waitKey(1) & 0xFF == ord('s'):\r\n",
    "      break\r\n",
    "   contador+=1\r\n",
    "cap.release()\r\n",
    "cv2.destroyAllWindows()"
   ],
   "outputs": [
    {
     "output_type": "stream",
     "name": "stdout",
     "text": [
      "[[0.9928186  0.00457413 0.00260733]]\n",
      "0.9928186\n",
      "[[9.9972123e-01 2.4541334e-05 2.5415208e-04]]\n",
      "0.9997212\n"
     ]
    }
   ],
   "metadata": {}
  }
 ],
 "metadata": {
  "kernelspec": {
   "name": "python3",
   "display_name": "Python 3.8.3 64-bit ('base': conda)"
  },
  "language_info": {
   "codemirror_mode": {
    "name": "ipython",
    "version": 3
   },
   "file_extension": ".py",
   "mimetype": "text/x-python",
   "name": "python",
   "nbconvert_exporter": "python",
   "pygments_lexer": "ipython3",
   "version": "3.8.3"
  },
  "interpreter": {
   "hash": "37eb40c3388cfde35488e2d005b0d69ca91ddeff8a429754d4da636d3f888e5e"
  }
 },
 "nbformat": 4,
 "nbformat_minor": 4
}